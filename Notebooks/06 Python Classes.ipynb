{
 "cells": [
  {
   "cell_type": "markdown",
   "id": "9e8de31d",
   "metadata": {},
   "source": [
    "# Introduction to Python Classes"
   ]
  },
  {
   "cell_type": "code",
   "execution_count": 2,
   "id": "ffdb345a",
   "metadata": {
    "ExecuteTime": {
     "end_time": "2022-09-12T22:37:43.335930Z",
     "start_time": "2022-09-12T22:37:43.333545Z"
    }
   },
   "outputs": [],
   "source": [
    "import numpy as np"
   ]
  },
  {
   "cell_type": "markdown",
   "id": "c6b7f868",
   "metadata": {},
   "source": [
    "Object-oriented programming often provides a clean, easy to remember, API to your functions that you often use. Let's see if this is the case for machine learning models."
   ]
  },
  {
   "cell_type": "markdown",
   "id": "747fe4c6",
   "metadata": {},
   "source": [
    "The main steps we have been taking to build, train and use our simple neural networks are\n",
    "1. Create the weight matrices.\n",
    "2. Train our neural networks by repeatedly updating the weight matrices using stochastic gradient descent.\n",
    "3. Use, or apply, our trained neural networks on new data.\n",
    "\n",
    "Humm.....what shall we \"name\" these steps?  If we define a neural network as an object, or instance, of class `NeuralNetwork`, then we can call these steps\n",
    "\n",
    "2. train\n",
    "3. use\n",
    "\n",
    "and the creation of the weight matrices can be part of the constructor for the `NeuralNetwork` object.\n",
    "\n",
    "Okay. Next step is to design our API, meaning define the arguments each step takes.\n",
    "\n",
    "How about this example python code?\n",
    "```\n",
    "nnet = NeuralNetwork(...)\n",
    "nnet.train(Xtrain, Ttrain, nepochs=1000, learning_rate=0.01)\n",
    "Ytest = nnet.use(Xtest)\n",
    "```\n",
    "\n",
    "But what arguments should be pass to the constructor?  To define the weight matrices, we need to know the number of input components (features), the number of hidden layers and the number of units in each hidden layer, and the number of outputs. We can specify both the number of hidden layers and the number of units in each hidden layer with a list of integers.\n",
    "```\n",
    "nnet = NeuralNetwork(n_inputs, n_hiddens_each_layer, n_outputs)\n",
    "```\n",
    "So, to define a neural network to be trained on data with 5 values in each input sample, targets of 3 values in each sample, and having 3 hidden layers with 20, 10, and 5 units each, we could call\n",
    "```\n",
    "nnet = NeuralNetwork(5, [20, 10, 5], 3)\n",
    "```"
   ]
  },
  {
   "cell_type": "markdown",
   "id": "694b0947",
   "metadata": {},
   "source": [
    "Okay, let's get to coding, taking baby steps for those of us who have never defined a Python class.\n",
    "\n",
    "Here is the smallest class we can define."
   ]
  },
  {
   "cell_type": "code",
   "execution_count": 7,
   "id": "b135a74f",
   "metadata": {
    "ExecuteTime": {
     "end_time": "2022-09-12T22:37:43.346942Z",
     "start_time": "2022-09-12T22:37:43.338215Z"
    }
   },
   "outputs": [],
   "source": [
    "class NeuralNetwork:\n",
    "    pass"
   ]
  },
  {
   "cell_type": "markdown",
   "id": "d6c50954",
   "metadata": {},
   "source": [
    "How would you use this class?"
   ]
  },
  {
   "cell_type": "code",
   "execution_count": 10,
   "id": "87387a24",
   "metadata": {
    "ExecuteTime": {
     "end_time": "2022-09-12T22:37:43.356963Z",
     "start_time": "2022-09-12T22:37:43.348966Z"
    }
   },
   "outputs": [
    {
     "data": {
      "text/plain": [
       "<__main__.NeuralNetwork at 0x32954b050>"
      ]
     },
     "execution_count": 10,
     "metadata": {},
     "output_type": "execute_result"
    }
   ],
   "source": [
    "nnet = NeuralNetwork()\n",
    "nnet"
   ]
  },
  {
   "cell_type": "code",
   "execution_count": 12,
   "id": "d8d9c6e2",
   "metadata": {
    "ExecuteTime": {
     "end_time": "2022-09-12T22:37:43.364197Z",
     "start_time": "2022-09-12T22:37:43.358229Z"
    }
   },
   "outputs": [
    {
     "data": {
      "text/plain": [
       "__main__.NeuralNetwork"
      ]
     },
     "execution_count": 12,
     "metadata": {},
     "output_type": "execute_result"
    }
   ],
   "source": [
    "type(nnet)"
   ]
  },
  {
   "cell_type": "markdown",
   "id": "1c840fdf",
   "metadata": {},
   "source": [
    "Well, that's rather cryptic.  Let's define a printed representation of our object, much like you would define `toString` in Java."
   ]
  },
  {
   "cell_type": "code",
   "execution_count": 15,
   "id": "24bd2728",
   "metadata": {
    "ExecuteTime": {
     "end_time": "2022-09-12T22:37:43.373212Z",
     "start_time": "2022-09-12T22:37:43.366247Z"
    }
   },
   "outputs": [],
   "source": [
    "class NeuralNetwork:\n",
    "    \n",
    "    def __str__(self):\n",
    "        return 'NeuralNetwork()'"
   ]
  },
  {
   "cell_type": "code",
   "execution_count": 17,
   "id": "40172432",
   "metadata": {
    "ExecuteTime": {
     "end_time": "2022-09-12T22:37:43.383888Z",
     "start_time": "2022-09-12T22:37:43.374924Z"
    }
   },
   "outputs": [
    {
     "data": {
      "text/plain": [
       "<__main__.NeuralNetwork at 0x32954a960>"
      ]
     },
     "execution_count": 17,
     "metadata": {},
     "output_type": "execute_result"
    }
   ],
   "source": [
    "nnet = NeuralNetwork()\n",
    "nnet"
   ]
  },
  {
   "cell_type": "markdown",
   "id": "d824611f",
   "metadata": {},
   "source": [
    "That didn't work.  The `__str__` method is actually meant for the printed representation."
   ]
  },
  {
   "cell_type": "code",
   "execution_count": 20,
   "id": "ff8f4fd5",
   "metadata": {
    "ExecuteTime": {
     "end_time": "2022-09-12T22:37:43.392690Z",
     "start_time": "2022-09-12T22:37:43.385541Z"
    }
   },
   "outputs": [
    {
     "name": "stdout",
     "output_type": "stream",
     "text": [
      "NeuralNetwork()\n"
     ]
    }
   ],
   "source": [
    "print(nnet)"
   ]
  },
  {
   "cell_type": "markdown",
   "id": "650be8ae",
   "metadata": {},
   "source": [
    "The string that results from evaluating a variable is meant to be a representation as close to the python code as we can get that was called to create the object. It is returned by `__repr__`. Turns out to be the same in this simple case."
   ]
  },
  {
   "cell_type": "code",
   "execution_count": 9,
   "id": "0c863df0",
   "metadata": {
    "ExecuteTime": {
     "end_time": "2022-09-12T22:37:43.401249Z",
     "start_time": "2022-09-12T22:37:43.394240Z"
    }
   },
   "outputs": [],
   "source": [
    "class NeuralNetwork:\n",
    "    \n",
    "    def __repr__(self):\n",
    "        return 'NeuralNetwork()'\n",
    "    \n",
    "    def __str__(self):\n",
    "        return 'NeuralNetwork()'"
   ]
  },
  {
   "cell_type": "code",
   "execution_count": 10,
   "id": "c9db58c9",
   "metadata": {
    "ExecuteTime": {
     "end_time": "2022-09-12T22:37:43.410847Z",
     "start_time": "2022-09-12T22:37:43.402586Z"
    }
   },
   "outputs": [
    {
     "data": {
      "text/plain": [
       "NeuralNetwork()"
      ]
     },
     "execution_count": 10,
     "metadata": {},
     "output_type": "execute_result"
    }
   ],
   "source": [
    "nnet = NeuralNetwork()\n",
    "nnet"
   ]
  },
  {
   "cell_type": "markdown",
   "id": "1ec37424",
   "metadata": {},
   "source": [
    "We will probably want to provide a bit more information in the result of `__str__`.  Maybe something like"
   ]
  },
  {
   "cell_type": "code",
   "execution_count": 11,
   "id": "39f446d7",
   "metadata": {
    "ExecuteTime": {
     "end_time": "2022-09-12T22:37:43.419957Z",
     "start_time": "2022-09-12T22:37:43.412122Z"
    }
   },
   "outputs": [],
   "source": [
    "class NeuralNetwork:\n",
    "    \n",
    "    def __repr__(self):\n",
    "        return 'NeuralNetwork()'\n",
    "    \n",
    "    def __str__(self):\n",
    "        return self.__repr__() + ', trained for 100 epochs with a final RMSE of 0.2'"
   ]
  },
  {
   "cell_type": "code",
   "execution_count": 12,
   "id": "ecb2d382",
   "metadata": {
    "ExecuteTime": {
     "end_time": "2022-09-12T22:37:43.431033Z",
     "start_time": "2022-09-12T22:37:43.422753Z"
    }
   },
   "outputs": [
    {
     "name": "stdout",
     "output_type": "stream",
     "text": [
      "NeuralNetwork(), trained for 100 epochs with a final RMSE of 0.2\n"
     ]
    },
    {
     "data": {
      "text/plain": [
       "NeuralNetwork()"
      ]
     },
     "execution_count": 12,
     "metadata": {},
     "output_type": "execute_result"
    }
   ],
   "source": [
    "nnet = NeuralNetwork()\n",
    "print(nnet)\n",
    "nnet"
   ]
  },
  {
   "cell_type": "markdown",
   "id": "87d40b21",
   "metadata": {},
   "source": [
    "Let's tackle the constructor now. It also has a double-underscore prefix and postfix. In the constructor, let's save the arguments in member variables, and create the weight matrices as member variables. \n",
    "\n",
    "To allow ourselves to create neural networks with any number of hidden layers, let's create a list of weight matrices with one weight matrix for every layer. In the following code, we are hardcoding for just two hidden layers.  You will modify this in the next assignment to construct as many weight matrices as you have integers in `n_hiddens_each_layer`.\n",
    "\n",
    "Now we should modify `__repr__` to show the full python call that would create our object."
   ]
  },
  {
   "cell_type": "code",
   "execution_count": 26,
   "id": "76989f37",
   "metadata": {
    "ExecuteTime": {
     "end_time": "2022-09-12T22:37:43.439278Z",
     "start_time": "2022-09-12T22:37:43.432316Z"
    }
   },
   "outputs": [],
   "source": [
    "class NeuralNetwork:\n",
    "    \n",
    "    def __init__(self, n_inputs, n_hiddens_each_layer, n_outputs):\n",
    "        \n",
    "        self.n_inputs = n_inputs\n",
    "        self.n_hiddens_each_layer = n_hiddens_each_layer\n",
    "        self.n_outputs = n_outputs\n",
    "\n",
    "        self.n_epochs = None\n",
    "        self.rmse = None\n",
    "               \n",
    "        self.W = []\n",
    "        ni = self.n_inputs\n",
    "        nh = self.n_hiddens_each_layer[0]\n",
    "        self.W.append(np.random.uniform(-1, 1, size=(1 + ni, nh)) / np.sqrt(1 + ni))\n",
    "        \n",
    "        ni = nh\n",
    "        nh = self.n_hiddens_each_layer[1]\n",
    "        self.W.append(np.random.uniform(-1, 1, size=(1 + ni, nh)) / np.sqrt(1 + ni))\n",
    "    \n",
    "    def __repr__(self):\n",
    "        return 'NeuralNetwork({}, {}, {})'.format(self.n_inputs, self.n_hiddens_each_layer, self.n_outputs)\n",
    "    \n",
    "    def __str__(self):\n",
    "        if self.n_epochs is not None:\n",
    "            return f'{self.__repr__()} trained for {self.n_epochs} epochs with a final RMSE of {self.rmse}.'   \n",
    "        else:\n",
    "            return f'{self.__repr__()} has not been trained.'\n"
   ]
  },
  {
   "cell_type": "code",
   "execution_count": 27,
   "id": "5e71cb2f",
   "metadata": {
    "ExecuteTime": {
     "end_time": "2022-09-12T22:37:43.450089Z",
     "start_time": "2022-09-12T22:37:43.440684Z"
    }
   },
   "outputs": [
    {
     "data": {
      "text/plain": [
       "NeuralNetwork(5, [10, 5], 3)"
      ]
     },
     "execution_count": 27,
     "metadata": {},
     "output_type": "execute_result"
    }
   ],
   "source": [
    "nnet = NeuralNetwork(5, [10, 5], 3)\n",
    "nnet"
   ]
  },
  {
   "cell_type": "code",
   "execution_count": 28,
   "id": "f512ad42",
   "metadata": {
    "ExecuteTime": {
     "end_time": "2022-09-12T22:37:43.458452Z",
     "start_time": "2022-09-12T22:37:43.451535Z"
    }
   },
   "outputs": [
    {
     "name": "stdout",
     "output_type": "stream",
     "text": [
      "NeuralNetwork(5, [10, 5], 3) has not been trained.\n"
     ]
    }
   ],
   "source": [
    "print(nnet)"
   ]
  },
  {
   "cell_type": "markdown",
   "id": "5ac7af92",
   "metadata": {},
   "source": [
    "We can examine the values of any member variable directly.  Nothing private or protected in python!"
   ]
  },
  {
   "cell_type": "code",
   "execution_count": 29,
   "id": "d476f189",
   "metadata": {
    "ExecuteTime": {
     "end_time": "2022-09-12T22:37:43.466894Z",
     "start_time": "2022-09-12T22:37:43.459784Z"
    }
   },
   "outputs": [
    {
     "data": {
      "text/plain": [
       "3"
      ]
     },
     "execution_count": 29,
     "metadata": {},
     "output_type": "execute_result"
    }
   ],
   "source": [
    "nnet.n_outputs"
   ]
  },
  {
   "cell_type": "code",
   "execution_count": 30,
   "id": "ef532cce",
   "metadata": {
    "ExecuteTime": {
     "end_time": "2022-09-12T22:37:43.475037Z",
     "start_time": "2022-09-12T22:37:43.468122Z"
    }
   },
   "outputs": [
    {
     "data": {
      "text/plain": [
       "2"
      ]
     },
     "execution_count": 30,
     "metadata": {},
     "output_type": "execute_result"
    }
   ],
   "source": [
    "len(nnet.W)"
   ]
  },
  {
   "cell_type": "markdown",
   "id": "830a5ea8",
   "metadata": {},
   "source": [
    "Now we can add \"empty\" member functions for our remaining two functions.  \n",
    "\n",
    "If you wish to define additional functions that your member functions will call, it is convention to prefix them with a single underscore.\n",
    "\n",
    "Don't forget that first argument `self` !"
   ]
  },
  {
   "cell_type": "code",
   "execution_count": 37,
   "id": "92931abb",
   "metadata": {
    "ExecuteTime": {
     "end_time": "2022-09-12T22:37:43.488679Z",
     "start_time": "2022-09-12T22:37:43.476239Z"
    }
   },
   "outputs": [],
   "source": [
    "class NeuralNetwork:\n",
    "    \n",
    "    def __init__(self, n_inputs, n_hiddens_each_layer, n_outputs):\n",
    "        \n",
    "        self.n_inputs = n_inputs\n",
    "        self.n_hiddens_each_layer = n_hiddens_each_layer\n",
    "        self.n_outputs = n_outputs\n",
    "        \n",
    "        self.n_epochs = None\n",
    "        self.rmse = None\n",
    "        \n",
    "        self.W = []\n",
    "        \n",
    "        # Hidden Layer 1\n",
    "        ni = self.n_inputs\n",
    "        nu = self.n_hiddens_each_layer[0]\n",
    "        self.W.append(np.random.uniform(-1, 1, size=(1 + ni, nu)) / np.sqrt(1 + ni))\n",
    "        \n",
    "        # Hidden Layer 2\n",
    "        ni = nu\n",
    "        nu = self.n_hiddens_each_layer[1]\n",
    "        self.W.append(np.random.uniform(-1, 1, size=(1 + ni, nu)) / np.sqrt(1 + ni))\n",
    "        \n",
    "        # Output Layer\n",
    "        ni = nu\n",
    "        nu = self.n_outputs\n",
    "        self.W.append(np.random.uniform(-1, 1, size=(1 + ni, nu)) / np.sqrt(1 + ni))\n",
    "        \n",
    "    \n",
    "    def __repr__(self):\n",
    "        return f'NeuralNetwork({self.n_inputs}, {self.n_hiddens_each_layer}, {self.n_outputs})'\n",
    "     \n",
    "    def __str__(self):\n",
    "        if self.n_epochs is not None:\n",
    "            return f'{self.__repr__()} trained for {self.n_epochs} epochs with a final RMSE of {self.rmse}.'   \n",
    "        else:\n",
    "            return f'{self.__repr__()} has not been trained.'\n",
    "        \n",
    "    def train(self, X, T, n_epochs, learning_rate):\n",
    "        pass\n",
    "    \n",
    "    def use(self, X):\n",
    "        pass\n",
    "    \n",
    "    def _forward(self, X):\n",
    "        pass\n",
    "    \n",
    "    def _gradient(self, X, T):\n",
    "        pass"
   ]
  },
  {
   "cell_type": "code",
   "execution_count": 38,
   "id": "84a04ce4",
   "metadata": {
    "ExecuteTime": {
     "end_time": "2022-09-12T22:37:43.498251Z",
     "start_time": "2022-09-12T22:37:43.489874Z"
    }
   },
   "outputs": [
    {
     "name": "stdout",
     "output_type": "stream",
     "text": [
      "NeuralNetwork(2, [10, 3], 1) has not been trained.\n"
     ]
    }
   ],
   "source": [
    "nnet = NeuralNetwork(2, [10, 3], 1)\n",
    "print(nnet)"
   ]
  },
  {
   "cell_type": "markdown",
   "id": "77f64a5b",
   "metadata": {},
   "source": [
    "That's it!   Now you can get to work on Assignment A2!"
   ]
  },
  {
   "cell_type": "code",
   "execution_count": null,
   "id": "826cd7c4-84f9-413e-bf84-c29df3d82963",
   "metadata": {},
   "outputs": [],
   "source": []
  },
  {
   "cell_type": "code",
   "execution_count": null,
   "id": "bd07c95d-cbed-4ee4-982b-3dcd6589b2a7",
   "metadata": {},
   "outputs": [],
   "source": []
  }
 ],
 "metadata": {
  "kernelspec": {
   "display_name": "Python 3 (ipykernel)",
   "language": "python",
   "name": "python3"
  },
  "language_info": {
   "codemirror_mode": {
    "name": "ipython",
    "version": 3
   },
   "file_extension": ".py",
   "mimetype": "text/x-python",
   "name": "python",
   "nbconvert_exporter": "python",
   "pygments_lexer": "ipython3",
   "version": "3.12.4"
  },
  "toc": {
   "base_numbering": 1,
   "nav_menu": {},
   "number_sections": true,
   "sideBar": true,
   "skip_h1_title": false,
   "title_cell": "Table of Contents",
   "title_sidebar": "Contents",
   "toc_cell": false,
   "toc_position": {},
   "toc_section_display": true,
   "toc_window_display": false
  }
 },
 "nbformat": 4,
 "nbformat_minor": 5
}
