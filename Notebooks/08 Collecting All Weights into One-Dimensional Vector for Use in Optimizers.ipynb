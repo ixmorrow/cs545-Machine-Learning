{
 "cells": [
  {
   "cell_type": "markdown",
   "id": "a1459eea-7b60-4d88-b0b4-39f5216918de",
   "metadata": {},
   "source": [
    "# Collecting All Weights Into a Vector"
   ]
  },
  {
   "cell_type": "code",
   "execution_count": 2,
   "id": "53909305-4b34-4ec9-81cf-33653bec9497",
   "metadata": {},
   "outputs": [
    {
     "name": "stdout",
     "output_type": "stream",
     "text": [
      "The autoreload extension is already loaded. To reload it, use:\n",
      "  %reload_ext autoreload\n"
     ]
    }
   ],
   "source": [
    "%load_ext autoreload\n",
    "%autoreload 2\n",
    "\n",
    "topics = ['Creating the Weight Vector',\n",
    "          'Create Weight Vector and All Weight Matrices in Same Memory Locations',\n",
    "          'Assign Changes to Weight Vector Without Creating a Copy',\n",
    "          'Creating Weights for a Neural Network']"
   ]
  },
  {
   "cell_type": "markdown",
   "id": "a48efb37-2df7-48bc-9700-7af369394e64",
   "metadata": {},
   "source": [
    "## Creating the Weight Vector"
   ]
  },
  {
   "cell_type": "markdown",
   "id": "1748b795-a313-4eda-befb-e818e6a1d05f",
   "metadata": {},
   "source": [
    "To use general-purpose optimization functions, like the SGD, AdamW, and SCG functions discussed last time, we must create a vector (one-dimensional) containing all of the weights in our network.  This vector will be passed as an argument to optimization functions as the parameters to be modified.\n",
    "\n",
    "Can we just convert our list of weight matrices (`self.Ws`) into a list of flattened matrices?  Let's try that."
   ]
  },
  {
   "cell_type": "code",
   "execution_count": 3,
   "id": "ae742fe7",
   "metadata": {
    "ExecuteTime": {
     "end_time": "2022-09-20T18:29:51.908252Z",
     "start_time": "2022-09-20T18:29:51.749656Z"
    }
   },
   "outputs": [],
   "source": [
    "import numpy as np"
   ]
  },
  {
   "cell_type": "markdown",
   "id": "14c52558-6e14-49df-972f-fbe3c4fc7828",
   "metadata": {},
   "source": [
    "Imagine we have a network with 4 inputs, 2 units in a single hidden layer, and 10 units in the output layer.  We would instantiate this with\n",
    "\n",
    "        nnet = NeuralNetwork(4, [2], 10)\n",
    "\n",
    "This network will contain two weight matrices of shapes $5 \\times 2$ and $3 \\times 10$, right?"
   ]
  },
  {
   "cell_type": "code",
   "execution_count": 4,
   "id": "bcfcd6d9",
   "metadata": {
    "ExecuteTime": {
     "end_time": "2022-09-20T18:29:51.911887Z",
     "start_time": "2022-09-20T18:29:51.909854Z"
    }
   },
   "outputs": [],
   "source": [
    "W1shape = (5, 2)\n",
    "W2shape = (3, 10)"
   ]
  },
  {
   "cell_type": "code",
   "execution_count": 5,
   "id": "237912c3-0452-41d2-88d6-151e9892da09",
   "metadata": {},
   "outputs": [
    {
     "data": {
      "text/plain": [
       "(10, 30)"
      ]
     },
     "execution_count": 5,
     "metadata": {},
     "output_type": "execute_result"
    }
   ],
   "source": [
    "n_weights_W1 = np.prod(W1shape)\n",
    "n_weights_W2 = np.prod(W2shape)\n",
    "n_weights_W1, n_weights_W2"
   ]
  },
  {
   "cell_type": "code",
   "execution_count": 6,
   "id": "353ce89c",
   "metadata": {
    "ExecuteTime": {
     "end_time": "2022-09-20T18:29:51.922008Z",
     "start_time": "2022-09-20T18:29:51.912989Z"
    }
   },
   "outputs": [],
   "source": [
    "W1 = np.arange(0, n_weights_W1).reshape(W1shape)\n",
    "W2 = (-np.arange(0, n_weights_W2)).reshape(W2shape)"
   ]
  },
  {
   "cell_type": "code",
   "execution_count": 7,
   "id": "a2567905",
   "metadata": {
    "ExecuteTime": {
     "end_time": "2022-09-20T18:29:51.935173Z",
     "start_time": "2022-09-20T18:29:51.923730Z"
    }
   },
   "outputs": [
    {
     "data": {
      "text/plain": [
       "(array([[0, 1],\n",
       "        [2, 3],\n",
       "        [4, 5],\n",
       "        [6, 7],\n",
       "        [8, 9]]),\n",
       " array([[  0,  -1,  -2,  -3,  -4,  -5,  -6,  -7,  -8,  -9],\n",
       "        [-10, -11, -12, -13, -14, -15, -16, -17, -18, -19],\n",
       "        [-20, -21, -22, -23, -24, -25, -26, -27, -28, -29]]))"
      ]
     },
     "execution_count": 7,
     "metadata": {},
     "output_type": "execute_result"
    }
   ],
   "source": [
    "W1, W2"
   ]
  },
  {
   "cell_type": "markdown",
   "id": "bec2440c-aceb-4518-95f7-59a98cb175fe",
   "metadata": {},
   "source": [
    "There are several ways to \"flatten\" a numpy array."
   ]
  },
  {
   "cell_type": "code",
   "execution_count": 8,
   "id": "b4270386",
   "metadata": {
    "ExecuteTime": {
     "end_time": "2022-09-20T18:29:51.945283Z",
     "start_time": "2022-09-20T18:29:51.936283Z"
    }
   },
   "outputs": [
    {
     "data": {
      "text/plain": [
       "array([0, 1, 2, 3, 4, 5, 6, 7, 8, 9])"
      ]
     },
     "execution_count": 8,
     "metadata": {},
     "output_type": "execute_result"
    }
   ],
   "source": [
    "W1.flatten()"
   ]
  },
  {
   "cell_type": "code",
   "execution_count": 9,
   "id": "ea62845e-35d9-4295-aaf7-7129f558a81f",
   "metadata": {},
   "outputs": [
    {
     "data": {
      "text/plain": [
       "array([0, 1, 2, 3, 4, 5, 6, 7, 8, 9])"
      ]
     },
     "execution_count": 9,
     "metadata": {},
     "output_type": "execute_result"
    }
   ],
   "source": [
    "W1.ravel()"
   ]
  },
  {
   "cell_type": "code",
   "execution_count": 10,
   "id": "b7d815e3-b5fc-4a04-8d4a-fdbf42b8c362",
   "metadata": {},
   "outputs": [
    {
     "data": {
      "text/plain": [
       "array([0, 1, 2, 3, 4, 5, 6, 7, 8, 9])"
      ]
     },
     "execution_count": 10,
     "metadata": {},
     "output_type": "execute_result"
    }
   ],
   "source": [
    "W1.reshape(-1)"
   ]
  },
  {
   "cell_type": "code",
   "execution_count": 11,
   "id": "2995539e",
   "metadata": {},
   "outputs": [
    {
     "name": "stdout",
     "output_type": "stream",
     "text": [
      "\u001b[0;31mDocstring:\u001b[0m\n",
      "a.flatten(order='C')\n",
      "\n",
      "Return a copy of the array collapsed into one dimension.\n",
      "\n",
      "Parameters\n",
      "----------\n",
      "order : {'C', 'F', 'A', 'K'}, optional\n",
      "    'C' means to flatten in row-major (C-style) order.\n",
      "    'F' means to flatten in column-major (Fortran-\n",
      "    style) order. 'A' means to flatten in column-major\n",
      "    order if `a` is Fortran *contiguous* in memory,\n",
      "    row-major order otherwise. 'K' means to flatten\n",
      "    `a` in the order the elements occur in memory.\n",
      "    The default is 'C'.\n",
      "\n",
      "Returns\n",
      "-------\n",
      "y : ndarray\n",
      "    A copy of the input array, flattened to one dimension.\n",
      "\n",
      "See Also\n",
      "--------\n",
      "ravel : Return a flattened array.\n",
      "flat : A 1-D flat iterator over the array.\n",
      "\n",
      "Examples\n",
      "--------\n",
      ">>> a = np.array([[1,2], [3,4]])\n",
      ">>> a.flatten()\n",
      "array([1, 2, 3, 4])\n",
      ">>> a.flatten('F')\n",
      "array([1, 3, 2, 4])\n",
      "\u001b[0;31mType:\u001b[0m      builtin_function_or_method"
     ]
    }
   ],
   "source": [
    "W1.flatten?"
   ]
  },
  {
   "cell_type": "code",
   "execution_count": 13,
   "id": "5ab3aff2",
   "metadata": {},
   "outputs": [
    {
     "name": "stdout",
     "output_type": "stream",
     "text": [
      "\u001b[0;31mDocstring:\u001b[0m\n",
      "a.ravel([order])\n",
      "\n",
      "Return a flattened array.\n",
      "\n",
      "Refer to `numpy.ravel` for full documentation.\n",
      "\n",
      "See Also\n",
      "--------\n",
      "numpy.ravel : equivalent function\n",
      "\n",
      "ndarray.flat : a flat iterator on the array.\n",
      "\u001b[0;31mType:\u001b[0m      builtin_function_or_method"
     ]
    }
   ],
   "source": [
    "W1.ravel?"
   ]
  },
  {
   "cell_type": "markdown",
   "id": "10f90e5b-896c-40b9-9639-b5df6ca202ee",
   "metadata": {},
   "source": [
    "Let's use `flatten`, the method with the most understandable name.  We can collect these into a one-dimensional vector using `np.hstack`."
   ]
  },
  {
   "cell_type": "code",
   "execution_count": 15,
   "id": "6535d5f4",
   "metadata": {
    "ExecuteTime": {
     "end_time": "2022-09-20T18:29:51.955156Z",
     "start_time": "2022-09-20T18:29:51.946367Z"
    }
   },
   "outputs": [
    {
     "data": {
      "text/plain": [
       "array([  0,   1,   2,   3,   4,   5,   6,   7,   8,   9,   0,  -1,  -2,\n",
       "        -3,  -4,  -5,  -6,  -7,  -8,  -9, -10, -11, -12, -13, -14, -15,\n",
       "       -16, -17, -18, -19, -20, -21, -22, -23, -24, -25, -26, -27, -28,\n",
       "       -29])"
      ]
     },
     "execution_count": 15,
     "metadata": {},
     "output_type": "execute_result"
    }
   ],
   "source": [
    "all_weights = np.hstack((W1.flatten(), W2.flatten()))\n",
    "all_weights"
   ]
  },
  {
   "cell_type": "markdown",
   "id": "1ab2b6b6-62c7-4dc5-902a-445c18600f66",
   "metadata": {},
   "source": [
    "When our optimization function updates these values, we want to check that our original weight matrices `W1` and `W2` are also modified.  This is because our `_forward` and `_gradient` functions will still be using `W1` and `W2`, that are stored in our `self.Ws` list."
   ]
  },
  {
   "cell_type": "code",
   "execution_count": 16,
   "id": "b68eb9cf-4568-4c51-ae1e-d22e5f248a31",
   "metadata": {},
   "outputs": [
    {
     "data": {
      "text/plain": [
       "array([9999,    1,    2,    3,    4,    5,    6,    7,    8,    9,    0,\n",
       "         -1,   -2,   -3,   -4,   -5,   -6,   -7,   -8,   -9,  -10,  -11,\n",
       "        -12,  -13,  -14,  -15,  -16,  -17,  -18,  -19,  -20,  -21,  -22,\n",
       "        -23,  -24,  -25,  -26,  -27,  -28,  -29])"
      ]
     },
     "execution_count": 16,
     "metadata": {},
     "output_type": "execute_result"
    }
   ],
   "source": [
    "all_weights[0] = 9999\n",
    "all_weights"
   ]
  },
  {
   "cell_type": "code",
   "execution_count": 17,
   "id": "befbc6db-3a16-4d82-a5cb-7e6bf7542ab0",
   "metadata": {},
   "outputs": [
    {
     "data": {
      "text/plain": [
       "(array([[0, 1],\n",
       "        [2, 3],\n",
       "        [4, 5],\n",
       "        [6, 7],\n",
       "        [8, 9]]),\n",
       " array([[  0,  -1,  -2,  -3,  -4,  -5,  -6,  -7,  -8,  -9],\n",
       "        [-10, -11, -12, -13, -14, -15, -16, -17, -18, -19],\n",
       "        [-20, -21, -22, -23, -24, -25, -26, -27, -28, -29]]))"
      ]
     },
     "execution_count": 17,
     "metadata": {},
     "output_type": "execute_result"
    }
   ],
   "source": [
    "W1, W2"
   ]
  },
  {
   "cell_type": "markdown",
   "id": "a4c8a70d-c74b-4a44-95ad-64ed66820190",
   "metadata": {},
   "source": [
    "Rats!  The memory location for the vector `all_weights` is not the same memory location as `W1` and `W2`.\n",
    "\n",
    "This is because the `np.hstack` function returns a `numpy` array, which allocates contiguous memory locations for all elements. `W1` and `W2` are not in contiguous memory locations, so `np.hstack` returns a `numpy` array not in the same memory locations as `W1` and `W2`."
   ]
  },
  {
   "cell_type": "markdown",
   "id": "8cf06b8c-42b8-4e1b-8a38-e923a059d8cf",
   "metadata": {},
   "source": [
    "What to do, what to do......"
   ]
  },
  {
   "cell_type": "markdown",
   "id": "34b8bcff-5cf5-4a00-98e6-20ff3aea8141",
   "metadata": {
    "jupyter": {
     "source_hidden": true
    }
   },
   "source": [
    "## Create Weight Vector and All Weight Matrices in Same Memory Locations"
   ]
  },
  {
   "cell_type": "markdown",
   "id": "0a52a4ab-61a0-4ba2-b927-8c974962b9a5",
   "metadata": {},
   "source": [
    "Maybe we can allocate `all_weights` first, then assign `W1` and `W2` to refer to memory locations within `all_weights`.  We can do this indexing into `all_weights` starting at the correct index and extending for as many weights as are in `W1` and `W2`."
   ]
  },
  {
   "cell_type": "code",
   "execution_count": 18,
   "id": "b8e5d00a-8e6a-42f4-b8d2-61584ad783ad",
   "metadata": {},
   "outputs": [
    {
     "data": {
      "text/plain": [
       "(array([9999,    1,    2,    3,    4,    5,    6,    7,    8,    9]),\n",
       " array([  0,  -1,  -2,  -3,  -4,  -5,  -6,  -7,  -8,  -9, -10, -11, -12,\n",
       "        -13, -14, -15, -16, -17, -18, -19, -20, -21, -22, -23, -24, -25,\n",
       "        -26, -27, -28, -29]))"
      ]
     },
     "execution_count": 18,
     "metadata": {},
     "output_type": "execute_result"
    }
   ],
   "source": [
    "# This points W1 and W2 to the actual memory addresses defined by all_weights? I thought this would just copy the values of all_weights in some other memory location\n",
    "# determined by the python VM\n",
    "W1 = all_weights[0:n_weights_W1]\n",
    "W2 = all_weights[n_weights_W1:n_weights_W1 + n_weights_W2]\n",
    "W1, W2"
   ]
  },
  {
   "cell_type": "markdown",
   "id": "8489965c-f8dc-4989-a72a-7f982fcd2a78",
   "metadata": {},
   "source": [
    "Now, hopefully if we reshape them the way we want them they still refer to the same memory locations.  We can test this by reshaping each weight matrix, then assign a new value to `all_weights` and see of `W1` and `W2` have the changed values."
   ]
  },
  {
   "cell_type": "code",
   "execution_count": 19,
   "id": "723e26a4-79e1-4f8b-8b39-7533208a4c70",
   "metadata": {},
   "outputs": [
    {
     "data": {
      "text/plain": [
       "(array([[9999,    1],\n",
       "        [   2,    3],\n",
       "        [   4,    5],\n",
       "        [   6,    7],\n",
       "        [   8,    9]]),\n",
       " array([[  0,  -1,  -2,  -3,  -4,  -5,  -6,  -7,  -8,  -9],\n",
       "        [-10, -11, -12, -13, -14, -15, -16, -17, -18, -19],\n",
       "        [-20, -21, -22, -23, -24, -25, -26, -27, -28, -29]]))"
      ]
     },
     "execution_count": 19,
     "metadata": {},
     "output_type": "execute_result"
    }
   ],
   "source": [
    "W1 = W1.reshape(W1shape)\n",
    "W2 = W2.reshape(W2shape)\n",
    "W1, W2"
   ]
  },
  {
   "cell_type": "code",
   "execution_count": 20,
   "id": "e10ddae4-93b8-4848-bc26-3cdb886a47ee",
   "metadata": {},
   "outputs": [
    {
     "data": {
      "text/plain": [
       "array([19998,     2,     4,     6,     8,    10,    12,    14,    16,\n",
       "          18,     0,    -2,    -4,    -6,    -8,   -10,   -12,   -14,\n",
       "         -16,   -18,   -20,   -22,   -24,   -26,   -28,   -30,   -32,\n",
       "         -34,   -36,   -38,   -40,   -42,   -44,   -46,   -48,   -50,\n",
       "         -52,   -54,   -56,   -58])"
      ]
     },
     "execution_count": 20,
     "metadata": {},
     "output_type": "execute_result"
    }
   ],
   "source": [
    "all_weights *= 2\n",
    "all_weights"
   ]
  },
  {
   "cell_type": "code",
   "execution_count": 21,
   "id": "0e957e1f-f3ba-4739-ba39-333bf56173d3",
   "metadata": {},
   "outputs": [
    {
     "data": {
      "text/plain": [
       "(array([[19998,     2],\n",
       "        [    4,     6],\n",
       "        [    8,    10],\n",
       "        [   12,    14],\n",
       "        [   16,    18]]),\n",
       " array([[  0,  -2,  -4,  -6,  -8, -10, -12, -14, -16, -18],\n",
       "        [-20, -22, -24, -26, -28, -30, -32, -34, -36, -38],\n",
       "        [-40, -42, -44, -46, -48, -50, -52, -54, -56, -58]]))"
      ]
     },
     "execution_count": 21,
     "metadata": {},
     "output_type": "execute_result"
    }
   ],
   "source": [
    "W1, W2"
   ]
  },
  {
   "cell_type": "markdown",
   "id": "43f1f89d-4a06-47e0-bc2b-2a52619674ec",
   "metadata": {},
   "source": [
    "Yippee! This works!"
   ]
  },
  {
   "cell_type": "markdown",
   "id": "77323b83-ef80-4cf7-a7e7-6de55430434b",
   "metadata": {},
   "source": [
    "## Assign Changes to Weight Vector Without Creating a Copy"
   ]
  },
  {
   "cell_type": "markdown",
   "id": "ad057978-b824-4386-a0aa-2a04768e0aff",
   "metadata": {},
   "source": [
    "But, watch out.  We must make sure the optimization steps are updating `all_weights` in place, and not making a new version of `all_weights`, which would break the correspondence between `all_weights` and `W1` and `W2`.\n",
    "\n",
    "Using `*=` worked.  Here is another way of assigning changes that also works."
   ]
  },
  {
   "cell_type": "code",
   "execution_count": 22,
   "id": "12363c35-17e5-4fb1-afb1-771bf7e8df6c",
   "metadata": {},
   "outputs": [],
   "source": [
    "# `[:]` tells python to update all_weights in place instead of making a copy of all_weights\n",
    "\n",
    "all_weights[:] = all_weights * -4"
   ]
  },
  {
   "cell_type": "code",
   "execution_count": 23,
   "id": "7e5ac1ee-cae6-42a8-9d35-3494ea2f8353",
   "metadata": {},
   "outputs": [
    {
     "data": {
      "text/plain": [
       "array([-79992,     -8,    -16,    -24,    -32,    -40,    -48,    -56,\n",
       "          -64,    -72,      0,      8,     16,     24,     32,     40,\n",
       "           48,     56,     64,     72,     80,     88,     96,    104,\n",
       "          112,    120,    128,    136,    144,    152,    160,    168,\n",
       "          176,    184,    192,    200,    208,    216,    224,    232])"
      ]
     },
     "execution_count": 23,
     "metadata": {},
     "output_type": "execute_result"
    }
   ],
   "source": [
    "all_weights"
   ]
  },
  {
   "cell_type": "code",
   "execution_count": 24,
   "id": "1de16b01-d83a-4e0a-a993-7b410e79f3ee",
   "metadata": {},
   "outputs": [
    {
     "data": {
      "text/plain": [
       "(array([[-79992,     -8],\n",
       "        [   -16,    -24],\n",
       "        [   -32,    -40],\n",
       "        [   -48,    -56],\n",
       "        [   -64,    -72]]),\n",
       " array([[  0,   8,  16,  24,  32,  40,  48,  56,  64,  72],\n",
       "        [ 80,  88,  96, 104, 112, 120, 128, 136, 144, 152],\n",
       "        [160, 168, 176, 184, 192, 200, 208, 216, 224, 232]]))"
      ]
     },
     "execution_count": 24,
     "metadata": {},
     "output_type": "execute_result"
    }
   ],
   "source": [
    "W1, W2"
   ]
  },
  {
   "cell_type": "markdown",
   "id": "a0b9a697-f3f5-4f4e-a8ea-b2f65df85068",
   "metadata": {},
   "source": [
    "But here is one form that does make a new copy of `all_weights`."
   ]
  },
  {
   "cell_type": "code",
   "execution_count": 25,
   "id": "f4a986c4-9449-41b5-b3cd-9ec27c86a37a",
   "metadata": {},
   "outputs": [],
   "source": [
    "# interesting, did not realize this creates a NEW COPY of all_weights in python...\n",
    "\n",
    "all_weights = all_weights + 0.1"
   ]
  },
  {
   "cell_type": "code",
   "execution_count": 26,
   "id": "45b740fd-e2e5-4315-bbca-f4ae5faf08a8",
   "metadata": {},
   "outputs": [
    {
     "data": {
      "text/plain": [
       "array([-7.99919e+04, -7.90000e+00, -1.59000e+01, -2.39000e+01,\n",
       "       -3.19000e+01, -3.99000e+01, -4.79000e+01, -5.59000e+01,\n",
       "       -6.39000e+01, -7.19000e+01,  1.00000e-01,  8.10000e+00,\n",
       "        1.61000e+01,  2.41000e+01,  3.21000e+01,  4.01000e+01,\n",
       "        4.81000e+01,  5.61000e+01,  6.41000e+01,  7.21000e+01,\n",
       "        8.01000e+01,  8.81000e+01,  9.61000e+01,  1.04100e+02,\n",
       "        1.12100e+02,  1.20100e+02,  1.28100e+02,  1.36100e+02,\n",
       "        1.44100e+02,  1.52100e+02,  1.60100e+02,  1.68100e+02,\n",
       "        1.76100e+02,  1.84100e+02,  1.92100e+02,  2.00100e+02,\n",
       "        2.08100e+02,  2.16100e+02,  2.24100e+02,  2.32100e+02])"
      ]
     },
     "execution_count": 26,
     "metadata": {},
     "output_type": "execute_result"
    }
   ],
   "source": [
    "all_weights"
   ]
  },
  {
   "cell_type": "code",
   "execution_count": 27,
   "id": "6d895e71-69ef-428f-8700-998b19f1adf8",
   "metadata": {},
   "outputs": [
    {
     "data": {
      "text/plain": [
       "(array([[-79992,     -8],\n",
       "        [   -16,    -24],\n",
       "        [   -32,    -40],\n",
       "        [   -48,    -56],\n",
       "        [   -64,    -72]]),\n",
       " array([[  0,   8,  16,  24,  32,  40,  48,  56,  64,  72],\n",
       "        [ 80,  88,  96, 104, 112, 120, 128, 136, 144, 152],\n",
       "        [160, 168, 176, 184, 192, 200, 208, 216, 224, 232]]))"
      ]
     },
     "execution_count": 27,
     "metadata": {},
     "output_type": "execute_result"
    }
   ],
   "source": [
    "W1, W2"
   ]
  },
  {
   "cell_type": "markdown",
   "id": "1adcb07b-8e16-40ac-9ec7-954225caaed5",
   "metadata": {},
   "source": [
    "The lesson here is, if you are assigning changes to `all_weights`, or to `W1` and `W2`, always use `[:]` on the left side of the assignment!!"
   ]
  },
  {
   "cell_type": "markdown",
   "id": "5b689a64-9d15-4c7a-9407-07b9d54af491",
   "metadata": {
    "ExecuteTime": {
     "end_time": "2022-09-20T18:29:51.974245Z",
     "start_time": "2022-09-20T18:29:51.965096Z"
    }
   },
   "source": [
    "## Creating Weights for a Neural Network"
   ]
  },
  {
   "cell_type": "markdown",
   "id": "ea263e1a-d90d-44c7-962a-ee65411a26f9",
   "metadata": {},
   "source": [
    "So, how should we create our weights in our `NeuralNetwork` class, to handle any number of layers?  Let's say we are in the constructor for `NeuralNetwork` and have `n_inputs`, `n_hiddens_each_layer` and `n_outputs` available. First, define all of the weight matrices' shapes.\n"
   ]
  },
  {
   "cell_type": "code",
   "execution_count": 28,
   "id": "89ca2143-8657-49bc-b698-0a1d713da036",
   "metadata": {},
   "outputs": [],
   "source": [
    "n_inputs = 2\n",
    "n_hiddens_each_layer = [5, 5, 4]\n",
    "n_outputs = 1"
   ]
  },
  {
   "cell_type": "code",
   "execution_count": 29,
   "id": "41ef1cdf-11a7-4289-93db-68de4b734622",
   "metadata": {},
   "outputs": [
    {
     "data": {
      "text/plain": [
       "[(3, 5), (6, 5), (6, 4), (5, 1)]"
      ]
     },
     "execution_count": 29,
     "metadata": {},
     "output_type": "execute_result"
    }
   ],
   "source": [
    "ni = n_inputs\n",
    "Wshapes = []\n",
    "for nh in n_hiddens_each_layer:\n",
    "    Wshapes.append((1 + ni, nh))\n",
    "    ni = nh\n",
    "Wshapes.append((1 + ni, n_outputs))\n",
    "\n",
    "Wshapes    "
   ]
  },
  {
   "cell_type": "markdown",
   "id": "ca06727e-50d3-48e1-8bf1-8ce4d65fea85",
   "metadata": {},
   "source": [
    "Now we can create the vector of all weights after adding up the number of weights in each layer."
   ]
  },
  {
   "cell_type": "code",
   "execution_count": 30,
   "id": "08a8c6d5-6a2c-4c00-9d91-133ab293a390",
   "metadata": {},
   "outputs": [
    {
     "data": {
      "text/plain": [
       "[15, 30, 24, 5]"
      ]
     },
     "execution_count": 30,
     "metadata": {},
     "output_type": "execute_result"
    }
   ],
   "source": [
    "[np.prod(Wshape) for Wshape in Wshapes]"
   ]
  },
  {
   "cell_type": "code",
   "execution_count": 31,
   "id": "60f3cb8a-edf2-4b6e-b92b-cac5d09e2f40",
   "metadata": {},
   "outputs": [
    {
     "data": {
      "text/plain": [
       "74"
      ]
     },
     "execution_count": 31,
     "metadata": {},
     "output_type": "execute_result"
    }
   ],
   "source": [
    "n_weights = np.sum([np.prod(Wshape) for Wshape in Wshapes])\n",
    "n_weights"
   ]
  },
  {
   "cell_type": "code",
   "execution_count": 32,
   "id": "58393998",
   "metadata": {
    "ExecuteTime": {
     "end_time": "2022-09-20T18:29:51.983302Z",
     "start_time": "2022-09-20T18:29:51.975357Z"
    }
   },
   "outputs": [
    {
     "data": {
      "text/plain": [
       "array([-0.15654574,  0.96120866, -0.25053158, -0.03625408,  0.96800706,\n",
       "        0.03285966,  0.93657656, -0.40201123,  0.20601533, -0.66031644,\n",
       "        0.56540737,  0.75327219,  0.96051533, -0.88015158, -0.55036538,\n",
       "        0.28530437, -0.73984187, -0.33085502, -0.96054889, -0.26604115,\n",
       "        0.00393425,  0.82922681,  0.19813682,  0.99696659,  0.82435952,\n",
       "        0.30602155,  0.85149758, -0.04595768,  0.86259388,  0.14264346,\n",
       "       -0.94903976, -0.13988279, -0.06436105, -0.89970127, -0.77246432,\n",
       "        0.98438315, -0.42963167, -0.12062856, -0.62122816, -0.91923901,\n",
       "        0.32361139,  0.30342279, -0.45426632, -0.59299987, -0.61042332,\n",
       "       -0.49448293, -0.68416294,  0.4593618 ,  0.55820322, -0.25462592,\n",
       "       -0.27116073,  0.69489367, -0.44807672, -0.63664485,  0.13730019,\n",
       "       -0.43905114, -0.00466345, -0.03382306, -0.50644977, -0.09369954,\n",
       "        0.23068636, -0.4794545 , -0.87695789,  0.36214994, -0.70508442,\n",
       "       -0.59714267, -0.58459673,  0.99346046, -0.97779107,  0.88983164,\n",
       "       -0.05552815,  0.41048768,  0.79833045,  0.84384761])"
      ]
     },
     "execution_count": 32,
     "metadata": {},
     "output_type": "execute_result"
    }
   ],
   "source": [
    "all_weights = np.random.uniform(-1, 1, n_weights)\n",
    "all_weights"
   ]
  },
  {
   "cell_type": "markdown",
   "id": "309d7ab1-3757-4cca-bffd-184aa0584810",
   "metadata": {},
   "source": [
    "Now we need to define our list of weight matrices for each layer as views into this vector."
   ]
  },
  {
   "cell_type": "code",
   "execution_count": 33,
   "id": "5e0f8c94",
   "metadata": {
    "ExecuteTime": {
     "end_time": "2022-09-20T18:29:51.992396Z",
     "start_time": "2022-09-20T18:29:51.986411Z"
    }
   },
   "outputs": [
    {
     "data": {
      "text/plain": [
       "[array([[-0.09038172,  0.55495408, -0.14464447, -0.0209313 ,  0.55887914],\n",
       "        [ 0.01897153,  0.54073273, -0.23210129,  0.118943  , -0.38123387],\n",
       "        [ 0.3264381 ,  0.4349019 ,  0.55455379, -0.50815575, -0.3177536 ]]),\n",
       " array([[ 0.11647502, -0.30203918, -0.135071  , -0.39214244, -0.10861084],\n",
       "        [ 0.00160615,  0.33853043,  0.08088902,  0.40700991,  0.33654337],\n",
       "        [ 0.12493277,  0.34762243, -0.01876214,  0.35215248,  0.05823395],\n",
       "        [-0.38744386, -0.05710691, -0.02627529, -0.36730151, -0.31535724],\n",
       "        [ 0.40187274, -0.17539639, -0.0492464 , -0.25361533, -0.37527776],\n",
       "        [ 0.1321138 ,  0.12387183, -0.18545345, -0.24209118, -0.24920428]]),\n",
       " array([[-0.20187181, -0.27930835,  0.18753367,  0.22788551],\n",
       "        [-0.1039506 , -0.11070091,  0.28368915, -0.18292656],\n",
       "        [-0.25990917,  0.05605257, -0.17924188, -0.00190385],\n",
       "        [-0.01380821, -0.20675725, -0.03825268,  0.09417731],\n",
       "        [-0.19573648, -0.35801656,  0.14784709, -0.28784951],\n",
       "        [-0.24378247, -0.23866062,  0.40557853, -0.39918153]]),\n",
       " array([[ 0.39794481],\n",
       "        [-0.02483294],\n",
       "        [ 0.18357567],\n",
       "        [ 0.35702423],\n",
       "        [ 0.37738013]])]"
      ]
     },
     "execution_count": 33,
     "metadata": {},
     "output_type": "execute_result"
    }
   ],
   "source": [
    "Ws = []\n",
    "first_index = 0\n",
    "for Wshape in Wshapes:\n",
    "    last_index = first_index + np.prod(Wshape)\n",
    "    nin = Wshape[0]\n",
    "    W = all_weights[first_index:last_index].reshape(Wshape) / np.sqrt(nin)\n",
    "    Ws.append(W)\n",
    "    first_index = last_index\n",
    "\n",
    "Ws"
   ]
  },
  {
   "cell_type": "code",
   "execution_count": 34,
   "id": "5e1f89d2-013f-46ad-a663-ed7c8321286d",
   "metadata": {},
   "outputs": [
    {
     "data": {
      "text/plain": [
       "array([-0.15654574,  0.96120866, -0.25053158, -0.03625408,  0.96800706,\n",
       "        0.03285966,  0.93657656, -0.40201123,  0.20601533, -0.66031644,\n",
       "        0.56540737,  0.75327219,  0.96051533, -0.88015158, -0.55036538,\n",
       "        0.28530437, -0.73984187, -0.33085502, -0.96054889, -0.26604115,\n",
       "        0.00393425,  0.82922681,  0.19813682,  0.99696659,  0.82435952,\n",
       "        0.30602155,  0.85149758, -0.04595768,  0.86259388,  0.14264346,\n",
       "       -0.94903976, -0.13988279, -0.06436105, -0.89970127, -0.77246432,\n",
       "        0.98438315, -0.42963167, -0.12062856, -0.62122816, -0.91923901,\n",
       "        0.32361139,  0.30342279, -0.45426632, -0.59299987, -0.61042332,\n",
       "       -0.49448293, -0.68416294,  0.4593618 ,  0.55820322, -0.25462592,\n",
       "       -0.27116073,  0.69489367, -0.44807672, -0.63664485,  0.13730019,\n",
       "       -0.43905114, -0.00466345, -0.03382306, -0.50644977, -0.09369954,\n",
       "        0.23068636, -0.4794545 , -0.87695789,  0.36214994, -0.70508442,\n",
       "       -0.59714267, -0.58459673,  0.99346046, -0.97779107,  0.88983164,\n",
       "       -0.05552815,  0.41048768,  0.79833045,  0.84384761])"
      ]
     },
     "execution_count": 34,
     "metadata": {},
     "output_type": "execute_result"
    }
   ],
   "source": [
    "all_weights"
   ]
  },
  {
   "cell_type": "markdown",
   "id": "b540cdea-0bc8-445f-986e-4e8ea80bbbe4",
   "metadata": {},
   "source": [
    "Uh oh.  Not the same values!!!  What happened?"
   ]
  },
  {
   "cell_type": "markdown",
   "id": "1847f0dc-5d0f-4a56-9d2d-fba9e2c8ac2d",
   "metadata": {},
   "source": [
    "Right.  Somewhere we performed an operation that caused a copy to be made.\n",
    "\n",
    "Must be the division.  Let's rewrite that code using `/='."
   ]
  },
  {
   "cell_type": "code",
   "execution_count": 35,
   "id": "35f45296-400a-45b1-aabd-219dc1e6e4f4",
   "metadata": {},
   "outputs": [
    {
     "data": {
      "text/plain": [
       "[array([[ 0.55482472,  0.21196814, -0.04102957,  0.54717722,  0.38325743],\n",
       "        [-0.13055778, -0.04129885,  0.51764554, -0.36024548,  0.1189937 ],\n",
       "        [ 0.07805396, -0.20025587,  0.39225332, -0.38397451, -0.47386045]]),\n",
       " array([[-0.13324139, -0.04271728,  0.17417263,  0.39537936,  0.29157843],\n",
       "        [-0.09444314, -0.32704493,  0.20960864,  0.23566403, -0.07523794],\n",
       "        [ 0.05485057,  0.24930347,  0.19740761, -0.21045541, -0.38031441],\n",
       "        [-0.01896536,  0.26676653, -0.17888851,  0.30758503,  0.39504638],\n",
       "        [-0.27033355,  0.10681996,  0.38040939,  0.18304744, -0.18299257],\n",
       "        [ 0.0471133 ,  0.28594631,  0.39256469, -0.15323063, -0.37682797]]),\n",
       " array([[ 0.280223  , -0.36887087,  0.0558062 , -0.01357118],\n",
       "        [ 0.0921761 ,  0.00204856, -0.32634632,  0.36224726],\n",
       "        [ 0.24847209,  0.30070079, -0.29244924, -0.0287169 ],\n",
       "        [-0.27657221,  0.1874864 , -0.26777313,  0.39359312],\n",
       "        [-0.28939249,  0.00515269,  0.28330201, -0.2056803 ],\n",
       "        [-0.04581822,  0.26251636,  0.2342125 , -0.1866267 ]]),\n",
       " array([[ 0.03226562],\n",
       "        [ 0.19285926],\n",
       "        [-0.13842944],\n",
       "        [-0.26544438],\n",
       "        [-0.19765421]])]"
      ]
     },
     "execution_count": 35,
     "metadata": {},
     "output_type": "execute_result"
    }
   ],
   "source": [
    "all_weights = np.random.uniform(-1, 1, n_weights)\n",
    "\n",
    "Ws = []\n",
    "first_index = 0\n",
    "for Wshape in Wshapes:\n",
    "    last_index = first_index + np.prod(Wshape)\n",
    "    nin = Wshape[0]\n",
    "    W = all_weights[first_index:last_index].reshape(Wshape)\n",
    "    W /= np.sqrt(nin)\n",
    "    Ws.append(W)\n",
    "    first_index = last_index\n",
    "\n",
    "Ws"
   ]
  },
  {
   "cell_type": "code",
   "execution_count": 36,
   "id": "167280d0-472e-4d68-96e7-d695d7a6a9f7",
   "metadata": {},
   "outputs": [
    {
     "data": {
      "text/plain": [
       "array([ 0.55482472,  0.21196814, -0.04102957,  0.54717722,  0.38325743,\n",
       "       -0.13055778, -0.04129885,  0.51764554, -0.36024548,  0.1189937 ,\n",
       "        0.07805396, -0.20025587,  0.39225332, -0.38397451, -0.47386045,\n",
       "       -0.13324139, -0.04271728,  0.17417263,  0.39537936,  0.29157843,\n",
       "       -0.09444314, -0.32704493,  0.20960864,  0.23566403, -0.07523794,\n",
       "        0.05485057,  0.24930347,  0.19740761, -0.21045541, -0.38031441,\n",
       "       -0.01896536,  0.26676653, -0.17888851,  0.30758503,  0.39504638,\n",
       "       -0.27033355,  0.10681996,  0.38040939,  0.18304744, -0.18299257,\n",
       "        0.0471133 ,  0.28594631,  0.39256469, -0.15323063, -0.37682797,\n",
       "        0.280223  , -0.36887087,  0.0558062 , -0.01357118,  0.0921761 ,\n",
       "        0.00204856, -0.32634632,  0.36224726,  0.24847209,  0.30070079,\n",
       "       -0.29244924, -0.0287169 , -0.27657221,  0.1874864 , -0.26777313,\n",
       "        0.39359312, -0.28939249,  0.00515269,  0.28330201, -0.2056803 ,\n",
       "       -0.04581822,  0.26251636,  0.2342125 , -0.1866267 ,  0.03226562,\n",
       "        0.19285926, -0.13842944, -0.26544438, -0.19765421])"
      ]
     },
     "execution_count": 36,
     "metadata": {},
     "output_type": "execute_result"
    }
   ],
   "source": [
    "all_weights"
   ]
  },
  {
   "cell_type": "code",
   "execution_count": 37,
   "id": "94dc9912-f652-4bfa-ac17-fedb4830a112",
   "metadata": {},
   "outputs": [
    {
     "data": {
      "text/plain": [
       "array([ 554.82471734,  211.96813858,  -41.02956511,  547.17721921,\n",
       "        383.25743166, -130.55778403,  -41.29884547,  517.64553959,\n",
       "       -360.24547836,  118.99369767,   78.05396359, -200.25587384,\n",
       "        392.25331556, -383.97451335, -473.86044704, -133.24138574,\n",
       "        -42.71727963,  174.17263225,  395.37935719,  291.57843443,\n",
       "        -94.44314318, -327.04493061,  209.60864004,  235.66402873,\n",
       "        -75.23794409,   54.85056571,  249.30346563,  197.40761087,\n",
       "       -210.45541211, -380.31440707,  -18.96536183,  266.76652964,\n",
       "       -178.88851426,  307.58502824,  395.04638442, -270.33355285,\n",
       "        106.8199555 ,  380.40939417,  183.04744261, -182.99257047,\n",
       "         47.11329784,  285.94631212,  392.56469254, -153.23063299,\n",
       "       -376.8279704 ,  280.22300432, -368.87086977,   55.80619869,\n",
       "        -13.57118226,   92.17609881,    2.04856444, -326.34631733,\n",
       "        362.24725959,  248.47209014,  300.70078912, -292.4492415 ,\n",
       "        -28.71690399, -276.57220698,  187.48640303, -267.77312538,\n",
       "        393.59312335, -289.39249035,    5.15269112,  283.30200695,\n",
       "       -205.68030079,  -45.81822111,  262.51635661,  234.21250175,\n",
       "       -186.62669754,   32.26561804,  192.8592567 , -138.42943516,\n",
       "       -265.44437865, -197.65420665])"
      ]
     },
     "execution_count": 37,
     "metadata": {},
     "output_type": "execute_result"
    }
   ],
   "source": [
    "all_weights[:] = all_weights * 1000\n",
    "all_weights"
   ]
  },
  {
   "cell_type": "code",
   "execution_count": 38,
   "id": "67024a56-1a3f-4e21-a196-16707494f1ff",
   "metadata": {
    "tags": []
   },
   "outputs": [
    {
     "data": {
      "text/plain": [
       "[array([[ 554.82471734,  211.96813858,  -41.02956511,  547.17721921,\n",
       "          383.25743166],\n",
       "        [-130.55778403,  -41.29884547,  517.64553959, -360.24547836,\n",
       "          118.99369767],\n",
       "        [  78.05396359, -200.25587384,  392.25331556, -383.97451335,\n",
       "         -473.86044704]]),\n",
       " array([[-133.24138574,  -42.71727963,  174.17263225,  395.37935719,\n",
       "          291.57843443],\n",
       "        [ -94.44314318, -327.04493061,  209.60864004,  235.66402873,\n",
       "          -75.23794409],\n",
       "        [  54.85056571,  249.30346563,  197.40761087, -210.45541211,\n",
       "         -380.31440707],\n",
       "        [ -18.96536183,  266.76652964, -178.88851426,  307.58502824,\n",
       "          395.04638442],\n",
       "        [-270.33355285,  106.8199555 ,  380.40939417,  183.04744261,\n",
       "         -182.99257047],\n",
       "        [  47.11329784,  285.94631212,  392.56469254, -153.23063299,\n",
       "         -376.8279704 ]]),\n",
       " array([[ 280.22300432, -368.87086977,   55.80619869,  -13.57118226],\n",
       "        [  92.17609881,    2.04856444, -326.34631733,  362.24725959],\n",
       "        [ 248.47209014,  300.70078912, -292.4492415 ,  -28.71690399],\n",
       "        [-276.57220698,  187.48640303, -267.77312538,  393.59312335],\n",
       "        [-289.39249035,    5.15269112,  283.30200695, -205.68030079],\n",
       "        [ -45.81822111,  262.51635661,  234.21250175, -186.62669754]]),\n",
       " array([[  32.26561804],\n",
       "        [ 192.8592567 ],\n",
       "        [-138.42943516],\n",
       "        [-265.44437865],\n",
       "        [-197.65420665]])]"
      ]
     },
     "execution_count": 38,
     "metadata": {},
     "output_type": "execute_result"
    }
   ],
   "source": [
    "Ws"
   ]
  }
 ],
 "metadata": {
  "kernelspec": {
   "display_name": "Python 3 (ipykernel)",
   "language": "python",
   "name": "python3"
  },
  "language_info": {
   "codemirror_mode": {
    "name": "ipython",
    "version": 3
   },
   "file_extension": ".py",
   "mimetype": "text/x-python",
   "name": "python",
   "nbconvert_exporter": "python",
   "pygments_lexer": "ipython3",
   "version": "3.12.4"
  },
  "toc": {
   "base_numbering": 1,
   "nav_menu": {},
   "number_sections": true,
   "sideBar": true,
   "skip_h1_title": false,
   "title_cell": "Table of Contents",
   "title_sidebar": "Contents",
   "toc_cell": false,
   "toc_position": {},
   "toc_section_display": true,
   "toc_window_display": false
  }
 },
 "nbformat": 4,
 "nbformat_minor": 5
}
